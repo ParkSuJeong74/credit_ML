{
 "cells": [
  {
   "cell_type": "markdown",
   "id": "0afaf007",
   "metadata": {},
   "source": [
    "# Credit Data Analysis\n",
    "\n",
    "* 해당 파일은 Jupyter Notebook으로 작성되었습니다.\n",
    "* 필요에 따라 colab도 사용할 예정입니다.\n",
    "\n",
    "## 일단은 test 용입니다.\n",
    "\n",
    "```python\n",
    "print(\"코드도 잘 들어가는지?\")\n",
    "```"
   ]
  },
  {
   "cell_type": "code",
   "execution_count": 1,
   "id": "4bb21712",
   "metadata": {},
   "outputs": [
    {
     "name": "stdout",
     "output_type": "stream",
     "text": [
      "hello world!\n"
     ]
    }
   ],
   "source": [
    "print(\"hello world!\")"
   ]
  }
 ],
 "metadata": {
  "kernelspec": {
   "display_name": "Python 3",
   "language": "python",
   "name": "python3"
  },
  "language_info": {
   "codemirror_mode": {
    "name": "ipython",
    "version": 3
   },
   "file_extension": ".py",
   "mimetype": "text/x-python",
   "name": "python",
   "nbconvert_exporter": "python",
   "pygments_lexer": "ipython3",
   "version": "3.8.8"
  },
  "toc": {
   "base_numbering": 1,
   "nav_menu": {},
   "number_sections": true,
   "sideBar": true,
   "skip_h1_title": false,
   "title_cell": "Table of Contents",
   "title_sidebar": "Contents",
   "toc_cell": false,
   "toc_position": {},
   "toc_section_display": true,
   "toc_window_display": true
  }
 },
 "nbformat": 4,
 "nbformat_minor": 5
}
