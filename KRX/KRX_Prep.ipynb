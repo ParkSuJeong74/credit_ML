{
 "cells": [
  {
   "cell_type": "markdown",
   "id": "f74270cc",
   "metadata": {},
   "source": [
    "# 한국거래소(KRX) 전체 종목 분석\n",
    "* 분석 : pandas 라이브러리 사용\n",
    "* 시각화 : seaborn 라이브러리 사용\n",
    "\n",
    "## KRX_Collect 에서 수집한 데이터 불러오기\n",
    "* csv 파일 불러오기"
   ]
  },
  {
   "cell_type": "code",
   "execution_count": 1,
   "id": "55926d6f",
   "metadata": {},
   "outputs": [],
   "source": [
    "# 라이브러리 불러오기\n",
    "import pandas as pd\n",
    "import seaborn as sns"
   ]
  },
  {
   "cell_type": "code",
   "execution_count": 2,
   "id": "4125b0c6",
   "metadata": {},
   "outputs": [
    {
     "data": {
      "text/html": [
       "<div>\n",
       "<style scoped>\n",
       "    .dataframe tbody tr th:only-of-type {\n",
       "        vertical-align: middle;\n",
       "    }\n",
       "\n",
       "    .dataframe tbody tr th {\n",
       "        vertical-align: top;\n",
       "    }\n",
       "\n",
       "    .dataframe thead th {\n",
       "        text-align: right;\n",
       "    }\n",
       "</style>\n",
       "<table border=\"1\" class=\"dataframe\">\n",
       "  <thead>\n",
       "    <tr style=\"text-align: right;\">\n",
       "      <th></th>\n",
       "      <th>Symbol</th>\n",
       "      <th>Market</th>\n",
       "      <th>Name</th>\n",
       "      <th>Sector</th>\n",
       "      <th>Industry</th>\n",
       "      <th>ListingDate</th>\n",
       "      <th>SettleMonth</th>\n",
       "      <th>Representative</th>\n",
       "      <th>HomePage</th>\n",
       "      <th>Region</th>\n",
       "    </tr>\n",
       "  </thead>\n",
       "  <tbody>\n",
       "    <tr>\n",
       "      <th>0</th>\n",
       "      <td>060310</td>\n",
       "      <td>KOSDAQ</td>\n",
       "      <td>3S</td>\n",
       "      <td>전자부품 제조업</td>\n",
       "      <td>반도체 웨이퍼 캐리어</td>\n",
       "      <td>2002-04-23</td>\n",
       "      <td>03월</td>\n",
       "      <td>박종익, 김세완 (각자 대표이사)</td>\n",
       "      <td>http://www.3sref.com</td>\n",
       "      <td>서울특별시</td>\n",
       "    </tr>\n",
       "    <tr>\n",
       "      <th>1</th>\n",
       "      <td>095570</td>\n",
       "      <td>KOSPI</td>\n",
       "      <td>AJ네트웍스</td>\n",
       "      <td>산업용 기계 및 장비 임대업</td>\n",
       "      <td>렌탈(파렛트, OA장비, 건설장비)</td>\n",
       "      <td>2015-08-21</td>\n",
       "      <td>12월</td>\n",
       "      <td>박대현</td>\n",
       "      <td>http://www.ajnet.co.kr</td>\n",
       "      <td>서울특별시</td>\n",
       "    </tr>\n",
       "    <tr>\n",
       "      <th>2</th>\n",
       "      <td>006840</td>\n",
       "      <td>KOSPI</td>\n",
       "      <td>AK홀딩스</td>\n",
       "      <td>기타 금융업</td>\n",
       "      <td>지주사업</td>\n",
       "      <td>1999-08-11</td>\n",
       "      <td>12월</td>\n",
       "      <td>채형석, 이석주(각자 대표이사)</td>\n",
       "      <td>http://www.aekyunggroup.co.kr</td>\n",
       "      <td>서울특별시</td>\n",
       "    </tr>\n",
       "    <tr>\n",
       "      <th>3</th>\n",
       "      <td>054620</td>\n",
       "      <td>KOSDAQ</td>\n",
       "      <td>APS홀딩스</td>\n",
       "      <td>기타 금융업</td>\n",
       "      <td>인터넷 트래픽 솔루션</td>\n",
       "      <td>2001-12-04</td>\n",
       "      <td>12월</td>\n",
       "      <td>정기로</td>\n",
       "      <td>http://www.apsholdings.co.kr</td>\n",
       "      <td>경기도</td>\n",
       "    </tr>\n",
       "    <tr>\n",
       "      <th>4</th>\n",
       "      <td>265520</td>\n",
       "      <td>KOSDAQ</td>\n",
       "      <td>AP시스템</td>\n",
       "      <td>특수 목적용 기계 제조업</td>\n",
       "      <td>디스플레이 제조 장비</td>\n",
       "      <td>2017-04-07</td>\n",
       "      <td>12월</td>\n",
       "      <td>김영주</td>\n",
       "      <td>http://www.apsystems.co.kr</td>\n",
       "      <td>경기도</td>\n",
       "    </tr>\n",
       "    <tr>\n",
       "      <th>...</th>\n",
       "      <td>...</td>\n",
       "      <td>...</td>\n",
       "      <td>...</td>\n",
       "      <td>...</td>\n",
       "      <td>...</td>\n",
       "      <td>...</td>\n",
       "      <td>...</td>\n",
       "      <td>...</td>\n",
       "      <td>...</td>\n",
       "      <td>...</td>\n",
       "    </tr>\n",
       "    <tr>\n",
       "      <th>7208</th>\n",
       "      <td>000547</td>\n",
       "      <td>KOSPI</td>\n",
       "      <td>흥국화재2우B</td>\n",
       "      <td>NaN</td>\n",
       "      <td>NaN</td>\n",
       "      <td>NaN</td>\n",
       "      <td>NaN</td>\n",
       "      <td>NaN</td>\n",
       "      <td>NaN</td>\n",
       "      <td>NaN</td>\n",
       "    </tr>\n",
       "    <tr>\n",
       "      <th>7209</th>\n",
       "      <td>000545</td>\n",
       "      <td>KOSPI</td>\n",
       "      <td>흥국화재우</td>\n",
       "      <td>NaN</td>\n",
       "      <td>NaN</td>\n",
       "      <td>NaN</td>\n",
       "      <td>NaN</td>\n",
       "      <td>NaN</td>\n",
       "      <td>NaN</td>\n",
       "      <td>NaN</td>\n",
       "    </tr>\n",
       "    <tr>\n",
       "      <th>7210</th>\n",
       "      <td>003280</td>\n",
       "      <td>KOSPI</td>\n",
       "      <td>흥아해운</td>\n",
       "      <td>해상 운송업</td>\n",
       "      <td>외항화물운송업(케미컬탱커)</td>\n",
       "      <td>1976-06-29</td>\n",
       "      <td>12월</td>\n",
       "      <td>이환구</td>\n",
       "      <td>http://www.heung-a.com</td>\n",
       "      <td>서울특별시</td>\n",
       "    </tr>\n",
       "    <tr>\n",
       "      <th>7211</th>\n",
       "      <td>037440</td>\n",
       "      <td>KOSDAQ</td>\n",
       "      <td>희림</td>\n",
       "      <td>건축기술, 엔지니어링 및 관련 기술 서비스업</td>\n",
       "      <td>설계 및 감리용역</td>\n",
       "      <td>2000-02-03</td>\n",
       "      <td>12월</td>\n",
       "      <td>정영균, 이목운, 허철호 (각자대표)</td>\n",
       "      <td>http://www.heerim.com</td>\n",
       "      <td>서울특별시</td>\n",
       "    </tr>\n",
       "    <tr>\n",
       "      <th>7212</th>\n",
       "      <td>238490</td>\n",
       "      <td>KOSDAQ</td>\n",
       "      <td>힘스</td>\n",
       "      <td>특수 목적용 기계 제조업</td>\n",
       "      <td>OLED Mask 인장기, OLED Mask 검사기 등</td>\n",
       "      <td>2017-07-20</td>\n",
       "      <td>12월</td>\n",
       "      <td>김주환</td>\n",
       "      <td>http://www.hims.co.kr</td>\n",
       "      <td>인천광역시</td>\n",
       "    </tr>\n",
       "  </tbody>\n",
       "</table>\n",
       "<p>7213 rows × 10 columns</p>\n",
       "</div>"
      ],
      "text/plain": [
       "      Symbol  Market     Name                    Sector  \\\n",
       "0     060310  KOSDAQ       3S                  전자부품 제조업   \n",
       "1     095570   KOSPI   AJ네트웍스           산업용 기계 및 장비 임대업   \n",
       "2     006840   KOSPI    AK홀딩스                    기타 금융업   \n",
       "3     054620  KOSDAQ   APS홀딩스                    기타 금융업   \n",
       "4     265520  KOSDAQ    AP시스템             특수 목적용 기계 제조업   \n",
       "...      ...     ...      ...                       ...   \n",
       "7208  000547   KOSPI  흥국화재2우B                       NaN   \n",
       "7209  000545   KOSPI    흥국화재우                       NaN   \n",
       "7210  003280   KOSPI     흥아해운                    해상 운송업   \n",
       "7211  037440  KOSDAQ       희림  건축기술, 엔지니어링 및 관련 기술 서비스업   \n",
       "7212  238490  KOSDAQ       힘스             특수 목적용 기계 제조업   \n",
       "\n",
       "                            Industry ListingDate SettleMonth  \\\n",
       "0                        반도체 웨이퍼 캐리어  2002-04-23         03월   \n",
       "1                렌탈(파렛트, OA장비, 건설장비)  2015-08-21         12월   \n",
       "2                               지주사업  1999-08-11         12월   \n",
       "3                        인터넷 트래픽 솔루션  2001-12-04         12월   \n",
       "4                        디스플레이 제조 장비  2017-04-07         12월   \n",
       "...                              ...         ...         ...   \n",
       "7208                             NaN         NaN         NaN   \n",
       "7209                             NaN         NaN         NaN   \n",
       "7210                  외항화물운송업(케미컬탱커)  1976-06-29         12월   \n",
       "7211                       설계 및 감리용역  2000-02-03         12월   \n",
       "7212  OLED Mask 인장기, OLED Mask 검사기 등  2017-07-20         12월   \n",
       "\n",
       "            Representative                       HomePage Region  \n",
       "0       박종익, 김세완 (각자 대표이사)           http://www.3sref.com  서울특별시  \n",
       "1                      박대현         http://www.ajnet.co.kr  서울특별시  \n",
       "2        채형석, 이석주(각자 대표이사)  http://www.aekyunggroup.co.kr  서울특별시  \n",
       "3                      정기로   http://www.apsholdings.co.kr    경기도  \n",
       "4                      김영주     http://www.apsystems.co.kr    경기도  \n",
       "...                    ...                            ...    ...  \n",
       "7208                   NaN                            NaN    NaN  \n",
       "7209                   NaN                            NaN    NaN  \n",
       "7210                   이환구         http://www.heung-a.com  서울특별시  \n",
       "7211  정영균, 이목운, 허철호 (각자대표)          http://www.heerim.com  서울특별시  \n",
       "7212                   김주환          http://www.hims.co.kr  인천광역시  \n",
       "\n",
       "[7213 rows x 10 columns]"
      ]
     },
     "execution_count": 2,
     "metadata": {},
     "output_type": "execute_result"
    }
   ],
   "source": [
    "# krx.csv 파일 불러오기\n",
    "# Symbol colomn에 0 이 누락된 경우 데이터타입을 문자 형태로 변경\n",
    "df=pd.read_csv(\"krx.csv\", dtype={\"Symbol\":object})\n",
    "df"
   ]
  },
  {
   "cell_type": "code",
   "execution_count": 3,
   "id": "f1414926",
   "metadata": {},
   "outputs": [
    {
     "data": {
      "text/plain": [
       "(7213, 10)"
      ]
     },
     "execution_count": 3,
     "metadata": {},
     "output_type": "execute_result"
    }
   ],
   "source": [
    "# 행, 열\n",
    "df.shape"
   ]
  },
  {
   "cell_type": "markdown",
   "id": "99f872a2",
   "metadata": {},
   "source": [
    "## 일부 데이터 미리보기\n",
    "* 상위\n",
    "* 하위\n",
    "* 아무거나"
   ]
  },
  {
   "cell_type": "code",
   "execution_count": 4,
   "id": "c2e112dd",
   "metadata": {},
   "outputs": [
    {
     "data": {
      "text/html": [
       "<div>\n",
       "<style scoped>\n",
       "    .dataframe tbody tr th:only-of-type {\n",
       "        vertical-align: middle;\n",
       "    }\n",
       "\n",
       "    .dataframe tbody tr th {\n",
       "        vertical-align: top;\n",
       "    }\n",
       "\n",
       "    .dataframe thead th {\n",
       "        text-align: right;\n",
       "    }\n",
       "</style>\n",
       "<table border=\"1\" class=\"dataframe\">\n",
       "  <thead>\n",
       "    <tr style=\"text-align: right;\">\n",
       "      <th></th>\n",
       "      <th>Symbol</th>\n",
       "      <th>Market</th>\n",
       "      <th>Name</th>\n",
       "      <th>Sector</th>\n",
       "      <th>Industry</th>\n",
       "      <th>ListingDate</th>\n",
       "      <th>SettleMonth</th>\n",
       "      <th>Representative</th>\n",
       "      <th>HomePage</th>\n",
       "      <th>Region</th>\n",
       "    </tr>\n",
       "  </thead>\n",
       "  <tbody>\n",
       "    <tr>\n",
       "      <th>0</th>\n",
       "      <td>060310</td>\n",
       "      <td>KOSDAQ</td>\n",
       "      <td>3S</td>\n",
       "      <td>전자부품 제조업</td>\n",
       "      <td>반도체 웨이퍼 캐리어</td>\n",
       "      <td>2002-04-23</td>\n",
       "      <td>03월</td>\n",
       "      <td>박종익, 김세완 (각자 대표이사)</td>\n",
       "      <td>http://www.3sref.com</td>\n",
       "      <td>서울특별시</td>\n",
       "    </tr>\n",
       "    <tr>\n",
       "      <th>1</th>\n",
       "      <td>095570</td>\n",
       "      <td>KOSPI</td>\n",
       "      <td>AJ네트웍스</td>\n",
       "      <td>산업용 기계 및 장비 임대업</td>\n",
       "      <td>렌탈(파렛트, OA장비, 건설장비)</td>\n",
       "      <td>2015-08-21</td>\n",
       "      <td>12월</td>\n",
       "      <td>박대현</td>\n",
       "      <td>http://www.ajnet.co.kr</td>\n",
       "      <td>서울특별시</td>\n",
       "    </tr>\n",
       "    <tr>\n",
       "      <th>2</th>\n",
       "      <td>006840</td>\n",
       "      <td>KOSPI</td>\n",
       "      <td>AK홀딩스</td>\n",
       "      <td>기타 금융업</td>\n",
       "      <td>지주사업</td>\n",
       "      <td>1999-08-11</td>\n",
       "      <td>12월</td>\n",
       "      <td>채형석, 이석주(각자 대표이사)</td>\n",
       "      <td>http://www.aekyunggroup.co.kr</td>\n",
       "      <td>서울특별시</td>\n",
       "    </tr>\n",
       "  </tbody>\n",
       "</table>\n",
       "</div>"
      ],
      "text/plain": [
       "   Symbol  Market    Name           Sector             Industry ListingDate  \\\n",
       "0  060310  KOSDAQ      3S         전자부품 제조업          반도체 웨이퍼 캐리어  2002-04-23   \n",
       "1  095570   KOSPI  AJ네트웍스  산업용 기계 및 장비 임대업  렌탈(파렛트, OA장비, 건설장비)  2015-08-21   \n",
       "2  006840   KOSPI   AK홀딩스           기타 금융업                 지주사업  1999-08-11   \n",
       "\n",
       "  SettleMonth      Representative                       HomePage Region  \n",
       "0         03월  박종익, 김세완 (각자 대표이사)           http://www.3sref.com  서울특별시  \n",
       "1         12월                 박대현         http://www.ajnet.co.kr  서울특별시  \n",
       "2         12월   채형석, 이석주(각자 대표이사)  http://www.aekyunggroup.co.kr  서울특별시  "
      ]
     },
     "execution_count": 4,
     "metadata": {},
     "output_type": "execute_result"
    }
   ],
   "source": [
    "# 상위 3개만\n",
    "df.head(3)"
   ]
  },
  {
   "cell_type": "code",
   "execution_count": 5,
   "id": "a7005ddf",
   "metadata": {},
   "outputs": [
    {
     "data": {
      "text/html": [
       "<div>\n",
       "<style scoped>\n",
       "    .dataframe tbody tr th:only-of-type {\n",
       "        vertical-align: middle;\n",
       "    }\n",
       "\n",
       "    .dataframe tbody tr th {\n",
       "        vertical-align: top;\n",
       "    }\n",
       "\n",
       "    .dataframe thead th {\n",
       "        text-align: right;\n",
       "    }\n",
       "</style>\n",
       "<table border=\"1\" class=\"dataframe\">\n",
       "  <thead>\n",
       "    <tr style=\"text-align: right;\">\n",
       "      <th></th>\n",
       "      <th>Symbol</th>\n",
       "      <th>Market</th>\n",
       "      <th>Name</th>\n",
       "      <th>Sector</th>\n",
       "      <th>Industry</th>\n",
       "      <th>ListingDate</th>\n",
       "      <th>SettleMonth</th>\n",
       "      <th>Representative</th>\n",
       "      <th>HomePage</th>\n",
       "      <th>Region</th>\n",
       "    </tr>\n",
       "  </thead>\n",
       "  <tbody>\n",
       "    <tr>\n",
       "      <th>7208</th>\n",
       "      <td>000547</td>\n",
       "      <td>KOSPI</td>\n",
       "      <td>흥국화재2우B</td>\n",
       "      <td>NaN</td>\n",
       "      <td>NaN</td>\n",
       "      <td>NaN</td>\n",
       "      <td>NaN</td>\n",
       "      <td>NaN</td>\n",
       "      <td>NaN</td>\n",
       "      <td>NaN</td>\n",
       "    </tr>\n",
       "    <tr>\n",
       "      <th>7209</th>\n",
       "      <td>000545</td>\n",
       "      <td>KOSPI</td>\n",
       "      <td>흥국화재우</td>\n",
       "      <td>NaN</td>\n",
       "      <td>NaN</td>\n",
       "      <td>NaN</td>\n",
       "      <td>NaN</td>\n",
       "      <td>NaN</td>\n",
       "      <td>NaN</td>\n",
       "      <td>NaN</td>\n",
       "    </tr>\n",
       "    <tr>\n",
       "      <th>7210</th>\n",
       "      <td>003280</td>\n",
       "      <td>KOSPI</td>\n",
       "      <td>흥아해운</td>\n",
       "      <td>해상 운송업</td>\n",
       "      <td>외항화물운송업(케미컬탱커)</td>\n",
       "      <td>1976-06-29</td>\n",
       "      <td>12월</td>\n",
       "      <td>이환구</td>\n",
       "      <td>http://www.heung-a.com</td>\n",
       "      <td>서울특별시</td>\n",
       "    </tr>\n",
       "    <tr>\n",
       "      <th>7211</th>\n",
       "      <td>037440</td>\n",
       "      <td>KOSDAQ</td>\n",
       "      <td>희림</td>\n",
       "      <td>건축기술, 엔지니어링 및 관련 기술 서비스업</td>\n",
       "      <td>설계 및 감리용역</td>\n",
       "      <td>2000-02-03</td>\n",
       "      <td>12월</td>\n",
       "      <td>정영균, 이목운, 허철호 (각자대표)</td>\n",
       "      <td>http://www.heerim.com</td>\n",
       "      <td>서울특별시</td>\n",
       "    </tr>\n",
       "    <tr>\n",
       "      <th>7212</th>\n",
       "      <td>238490</td>\n",
       "      <td>KOSDAQ</td>\n",
       "      <td>힘스</td>\n",
       "      <td>특수 목적용 기계 제조업</td>\n",
       "      <td>OLED Mask 인장기, OLED Mask 검사기 등</td>\n",
       "      <td>2017-07-20</td>\n",
       "      <td>12월</td>\n",
       "      <td>김주환</td>\n",
       "      <td>http://www.hims.co.kr</td>\n",
       "      <td>인천광역시</td>\n",
       "    </tr>\n",
       "  </tbody>\n",
       "</table>\n",
       "</div>"
      ],
      "text/plain": [
       "      Symbol  Market     Name                    Sector  \\\n",
       "7208  000547   KOSPI  흥국화재2우B                       NaN   \n",
       "7209  000545   KOSPI    흥국화재우                       NaN   \n",
       "7210  003280   KOSPI     흥아해운                    해상 운송업   \n",
       "7211  037440  KOSDAQ       희림  건축기술, 엔지니어링 및 관련 기술 서비스업   \n",
       "7212  238490  KOSDAQ       힘스             특수 목적용 기계 제조업   \n",
       "\n",
       "                            Industry ListingDate SettleMonth  \\\n",
       "7208                             NaN         NaN         NaN   \n",
       "7209                             NaN         NaN         NaN   \n",
       "7210                  외항화물운송업(케미컬탱커)  1976-06-29         12월   \n",
       "7211                       설계 및 감리용역  2000-02-03         12월   \n",
       "7212  OLED Mask 인장기, OLED Mask 검사기 등  2017-07-20         12월   \n",
       "\n",
       "            Representative                HomePage Region  \n",
       "7208                   NaN                     NaN    NaN  \n",
       "7209                   NaN                     NaN    NaN  \n",
       "7210                   이환구  http://www.heung-a.com  서울특별시  \n",
       "7211  정영균, 이목운, 허철호 (각자대표)   http://www.heerim.com  서울특별시  \n",
       "7212                   김주환   http://www.hims.co.kr  인천광역시  "
      ]
     },
     "execution_count": 5,
     "metadata": {},
     "output_type": "execute_result"
    }
   ],
   "source": [
    "# 하위 5개만\n",
    "df.tail()"
   ]
  },
  {
   "cell_type": "code",
   "execution_count": 6,
   "id": "1bc40a93",
   "metadata": {},
   "outputs": [
    {
     "data": {
      "text/html": [
       "<div>\n",
       "<style scoped>\n",
       "    .dataframe tbody tr th:only-of-type {\n",
       "        vertical-align: middle;\n",
       "    }\n",
       "\n",
       "    .dataframe tbody tr th {\n",
       "        vertical-align: top;\n",
       "    }\n",
       "\n",
       "    .dataframe thead th {\n",
       "        text-align: right;\n",
       "    }\n",
       "</style>\n",
       "<table border=\"1\" class=\"dataframe\">\n",
       "  <thead>\n",
       "    <tr style=\"text-align: right;\">\n",
       "      <th></th>\n",
       "      <th>Symbol</th>\n",
       "      <th>Market</th>\n",
       "      <th>Name</th>\n",
       "      <th>Sector</th>\n",
       "      <th>Industry</th>\n",
       "      <th>ListingDate</th>\n",
       "      <th>SettleMonth</th>\n",
       "      <th>Representative</th>\n",
       "      <th>HomePage</th>\n",
       "      <th>Region</th>\n",
       "    </tr>\n",
       "  </thead>\n",
       "  <tbody>\n",
       "    <tr>\n",
       "      <th>6424</th>\n",
       "      <td>57GS58</td>\n",
       "      <td>KOSPI</td>\n",
       "      <td>한국GS58KOSPI200콜</td>\n",
       "      <td>NaN</td>\n",
       "      <td>NaN</td>\n",
       "      <td>NaN</td>\n",
       "      <td>NaN</td>\n",
       "      <td>NaN</td>\n",
       "      <td>NaN</td>\n",
       "      <td>NaN</td>\n",
       "    </tr>\n",
       "    <tr>\n",
       "      <th>6029</th>\n",
       "      <td>57GM64</td>\n",
       "      <td>KOSPI</td>\n",
       "      <td>한국GM64POSCO콜</td>\n",
       "      <td>NaN</td>\n",
       "      <td>NaN</td>\n",
       "      <td>NaN</td>\n",
       "      <td>NaN</td>\n",
       "      <td>NaN</td>\n",
       "      <td>NaN</td>\n",
       "      <td>NaN</td>\n",
       "    </tr>\n",
       "  </tbody>\n",
       "</table>\n",
       "</div>"
      ],
      "text/plain": [
       "      Symbol Market             Name Sector Industry ListingDate SettleMonth  \\\n",
       "6424  57GS58  KOSPI  한국GS58KOSPI200콜    NaN      NaN         NaN         NaN   \n",
       "6029  57GM64  KOSPI     한국GM64POSCO콜    NaN      NaN         NaN         NaN   \n",
       "\n",
       "     Representative HomePage Region  \n",
       "6424            NaN      NaN    NaN  \n",
       "6029            NaN      NaN    NaN  "
      ]
     },
     "execution_count": 6,
     "metadata": {},
     "output_type": "execute_result"
    }
   ],
   "source": [
    "# 아무거나 두개\n",
    "df.sample(2)"
   ]
  },
  {
   "cell_type": "markdown",
   "id": "e5f62f15",
   "metadata": {},
   "source": [
    "## 데이터 요약하기\n"
   ]
  },
  {
   "cell_type": "code",
   "execution_count": 7,
   "id": "0f0ce309",
   "metadata": {},
   "outputs": [
    {
     "name": "stdout",
     "output_type": "stream",
     "text": [
      "<class 'pandas.core.frame.DataFrame'>\n",
      "RangeIndex: 7213 entries, 0 to 7212\n",
      "Data columns (total 10 columns):\n",
      " #   Column          Non-Null Count  Dtype \n",
      "---  ------          --------------  ----- \n",
      " 0   Symbol          7213 non-null   object\n",
      " 1   Market          7213 non-null   object\n",
      " 2   Name            7213 non-null   object\n",
      " 3   Sector          2472 non-null   object\n",
      " 4   Industry        2453 non-null   object\n",
      " 5   ListingDate     2472 non-null   object\n",
      " 6   SettleMonth     2472 non-null   object\n",
      " 7   Representative  2472 non-null   object\n",
      " 8   HomePage        2324 non-null   object\n",
      " 9   Region          2472 non-null   object\n",
      "dtypes: object(10)\n",
      "memory usage: 563.6+ KB\n"
     ]
    }
   ],
   "source": [
    "df.info()"
   ]
  },
  {
   "cell_type": "markdown",
   "id": "6f7843a8",
   "metadata": {},
   "source": [
    "* csv파일로 불러오면서 object 데이터 타입으로 바뀜"
   ]
  },
  {
   "cell_type": "code",
   "execution_count": 8,
   "id": "fcc7668d",
   "metadata": {},
   "outputs": [
    {
     "data": {
      "text/html": [
       "<div>\n",
       "<style scoped>\n",
       "    .dataframe tbody tr th:only-of-type {\n",
       "        vertical-align: middle;\n",
       "    }\n",
       "\n",
       "    .dataframe tbody tr th {\n",
       "        vertical-align: top;\n",
       "    }\n",
       "\n",
       "    .dataframe thead th {\n",
       "        text-align: right;\n",
       "    }\n",
       "</style>\n",
       "<table border=\"1\" class=\"dataframe\">\n",
       "  <thead>\n",
       "    <tr style=\"text-align: right;\">\n",
       "      <th></th>\n",
       "      <th>Symbol</th>\n",
       "      <th>Market</th>\n",
       "      <th>Name</th>\n",
       "      <th>Sector</th>\n",
       "      <th>Industry</th>\n",
       "      <th>ListingDate</th>\n",
       "      <th>SettleMonth</th>\n",
       "      <th>Representative</th>\n",
       "      <th>HomePage</th>\n",
       "      <th>Region</th>\n",
       "    </tr>\n",
       "  </thead>\n",
       "  <tbody>\n",
       "    <tr>\n",
       "      <th>count</th>\n",
       "      <td>7213</td>\n",
       "      <td>7213</td>\n",
       "      <td>7213</td>\n",
       "      <td>2472</td>\n",
       "      <td>2453</td>\n",
       "      <td>2472</td>\n",
       "      <td>2472</td>\n",
       "      <td>2472</td>\n",
       "      <td>2324</td>\n",
       "      <td>2472</td>\n",
       "    </tr>\n",
       "    <tr>\n",
       "      <th>unique</th>\n",
       "      <td>7213</td>\n",
       "      <td>3</td>\n",
       "      <td>7213</td>\n",
       "      <td>160</td>\n",
       "      <td>2303</td>\n",
       "      <td>1827</td>\n",
       "      <td>9</td>\n",
       "      <td>2345</td>\n",
       "      <td>2302</td>\n",
       "      <td>22</td>\n",
       "    </tr>\n",
       "    <tr>\n",
       "      <th>top</th>\n",
       "      <td>57GS53</td>\n",
       "      <td>KOSPI</td>\n",
       "      <td>한국GV04LG화학콜</td>\n",
       "      <td>소프트웨어 개발 및 공급업</td>\n",
       "      <td>기업인수합병</td>\n",
       "      <td>1996-07-03</td>\n",
       "      <td>12월</td>\n",
       "      <td>-</td>\n",
       "      <td>http://www.ildong.com</td>\n",
       "      <td>서울특별시</td>\n",
       "    </tr>\n",
       "    <tr>\n",
       "      <th>freq</th>\n",
       "      <td>1</td>\n",
       "      <td>5540</td>\n",
       "      <td>1</td>\n",
       "      <td>145</td>\n",
       "      <td>27</td>\n",
       "      <td>8</td>\n",
       "      <td>2411</td>\n",
       "      <td>5</td>\n",
       "      <td>2</td>\n",
       "      <td>1001</td>\n",
       "    </tr>\n",
       "  </tbody>\n",
       "</table>\n",
       "</div>"
      ],
      "text/plain": [
       "        Symbol Market         Name          Sector Industry ListingDate  \\\n",
       "count     7213   7213         7213            2472     2453        2472   \n",
       "unique    7213      3         7213             160     2303        1827   \n",
       "top     57GS53  KOSPI  한국GV04LG화학콜  소프트웨어 개발 및 공급업   기업인수합병  1996-07-03   \n",
       "freq         1   5540            1             145       27           8   \n",
       "\n",
       "       SettleMonth Representative               HomePage Region  \n",
       "count         2472           2472                   2324   2472  \n",
       "unique           9           2345                   2302     22  \n",
       "top            12월              -  http://www.ildong.com  서울특별시  \n",
       "freq          2411              5                      2   1001  "
      ]
     },
     "execution_count": 8,
     "metadata": {},
     "output_type": "execute_result"
    }
   ],
   "source": [
    "df.describe()"
   ]
  },
  {
   "cell_type": "code",
   "execution_count": 9,
   "id": "652632bb",
   "metadata": {},
   "outputs": [
    {
     "data": {
      "text/plain": [
       "Symbol            7213\n",
       "Market               3\n",
       "Name              7213\n",
       "Sector             160\n",
       "Industry          2303\n",
       "ListingDate       1827\n",
       "SettleMonth          9\n",
       "Representative    2345\n",
       "HomePage          2302\n",
       "Region              22\n",
       "dtype: int64"
      ]
     },
     "execution_count": 9,
     "metadata": {},
     "output_type": "execute_result"
    }
   ],
   "source": [
    "df.nunique()"
   ]
  },
  {
   "cell_type": "code",
   "execution_count": 10,
   "id": "8b73dcd9",
   "metadata": {},
   "outputs": [
    {
     "data": {
      "text/plain": [
       "RangeIndex(start=0, stop=7213, step=1)"
      ]
     },
     "execution_count": 10,
     "metadata": {},
     "output_type": "execute_result"
    }
   ],
   "source": [
    "# 함수가 아닌 attribute(index, columns)\n",
    "df.index"
   ]
  },
  {
   "cell_type": "code",
   "execution_count": 11,
   "id": "89b5da67",
   "metadata": {},
   "outputs": [
    {
     "data": {
      "text/plain": [
       "Index(['Symbol', 'Market', 'Name', 'Sector', 'Industry', 'ListingDate',\n",
       "       'SettleMonth', 'Representative', 'HomePage', 'Region'],\n",
       "      dtype='object')"
      ]
     },
     "execution_count": 11,
     "metadata": {},
     "output_type": "execute_result"
    }
   ],
   "source": [
    "df.columns"
   ]
  },
  {
   "cell_type": "code",
   "execution_count": 12,
   "id": "833930ef",
   "metadata": {},
   "outputs": [
    {
     "data": {
      "text/plain": [
       "array([['060310', 'KOSDAQ', '3S', ..., '박종익, 김세완 (각자 대표이사)',\n",
       "        'http://www.3sref.com', '서울특별시'],\n",
       "       ['095570', 'KOSPI', 'AJ네트웍스', ..., '박대현',\n",
       "        'http://www.ajnet.co.kr', '서울특별시'],\n",
       "       ['006840', 'KOSPI', 'AK홀딩스', ..., '채형석, 이석주(각자 대표이사)',\n",
       "        'http://www.aekyunggroup.co.kr', '서울특별시'],\n",
       "       ...,\n",
       "       ['003280', 'KOSPI', '흥아해운', ..., '이환구', 'http://www.heung-a.com',\n",
       "        '서울특별시'],\n",
       "       ['037440', 'KOSDAQ', '희림', ..., '정영균, 이목운, 허철호 (각자대표)',\n",
       "        'http://www.heerim.com', '서울특별시'],\n",
       "       ['238490', 'KOSDAQ', '힘스', ..., '김주환', 'http://www.hims.co.kr',\n",
       "        '인천광역시']], dtype=object)"
      ]
     },
     "execution_count": 12,
     "metadata": {},
     "output_type": "execute_result"
    }
   ],
   "source": [
    "df.values"
   ]
  },
  {
   "cell_type": "markdown",
   "id": "ae4dbbd0",
   "metadata": {},
   "source": [
    "## 데이터 색인하기\n",
    "### Series  :1차원 리스트"
   ]
  },
  {
   "cell_type": "code",
   "execution_count": 13,
   "id": "397d2976",
   "metadata": {},
   "outputs": [
    {
     "data": {
      "text/plain": [
       "Index(['Symbol', 'Market', 'Name', 'Sector', 'Industry', 'ListingDate',\n",
       "       'SettleMonth', 'Representative', 'HomePage', 'Region'],\n",
       "      dtype='object')"
      ]
     },
     "execution_count": 13,
     "metadata": {},
     "output_type": "execute_result"
    }
   ],
   "source": [
    "df.columns"
   ]
  },
  {
   "cell_type": "code",
   "execution_count": 14,
   "id": "e51e7b49",
   "metadata": {},
   "outputs": [
    {
     "data": {
      "text/plain": [
       "0            3S\n",
       "1        AJ네트웍스\n",
       "2         AK홀딩스\n",
       "3        APS홀딩스\n",
       "4         AP시스템\n",
       "         ...   \n",
       "7208    흥국화재2우B\n",
       "7209      흥국화재우\n",
       "7210       흥아해운\n",
       "7211         희림\n",
       "7212         힘스\n",
       "Name: Name, Length: 7213, dtype: object"
      ]
     },
     "execution_count": 14,
     "metadata": {},
     "output_type": "execute_result"
    }
   ],
   "source": [
    "# Name 컬럼만 가져옴\n",
    "df[\"Name\"]"
   ]
  },
  {
   "cell_type": "code",
   "execution_count": 15,
   "id": "1447326f",
   "metadata": {},
   "outputs": [
    {
     "data": {
      "text/plain": [
       "pandas.core.series.Series"
      ]
     },
     "execution_count": 15,
     "metadata": {},
     "output_type": "execute_result"
    }
   ],
   "source": [
    "# 타입 확인\n",
    "type(df[\"Name\"])"
   ]
  },
  {
   "cell_type": "code",
   "execution_count": 16,
   "id": "3c91c21c",
   "metadata": {},
   "outputs": [
    {
     "data": {
      "text/plain": [
       "Symbol                            095570\n",
       "Market                             KOSPI\n",
       "Name                              AJ네트웍스\n",
       "Sector                   산업용 기계 및 장비 임대업\n",
       "Industry             렌탈(파렛트, OA장비, 건설장비)\n",
       "ListingDate                   2015-08-21\n",
       "SettleMonth                          12월\n",
       "Representative                       박대현\n",
       "HomePage          http://www.ajnet.co.kr\n",
       "Region                             서울특별시\n",
       "Name: 1, dtype: object"
      ]
     },
     "execution_count": 16,
     "metadata": {},
     "output_type": "execute_result"
    }
   ],
   "source": [
    "# 1번 행 가져오기(인덱스)\n",
    "df.loc[1]"
   ]
  },
  {
   "cell_type": "code",
   "execution_count": 17,
   "id": "0e551baa",
   "metadata": {},
   "outputs": [
    {
     "data": {
      "text/plain": [
       "pandas.core.series.Series"
      ]
     },
     "execution_count": 17,
     "metadata": {},
     "output_type": "execute_result"
    }
   ],
   "source": [
    "type(df.loc[1])"
   ]
  },
  {
   "cell_type": "code",
   "execution_count": 18,
   "id": "c680c64f",
   "metadata": {},
   "outputs": [
    {
     "data": {
      "text/plain": [
       "pandas.core.frame.DataFrame"
      ]
     },
     "execution_count": 18,
     "metadata": {},
     "output_type": "execute_result"
    }
   ],
   "source": [
    "type(df)"
   ]
  },
  {
   "cell_type": "markdown",
   "id": "e14bc6f8",
   "metadata": {},
   "source": [
    "### DataFrame : row, column"
   ]
  },
  {
   "cell_type": "code",
   "execution_count": 19,
   "id": "129e14d2",
   "metadata": {},
   "outputs": [
    {
     "data": {
      "text/html": [
       "<div>\n",
       "<style scoped>\n",
       "    .dataframe tbody tr th:only-of-type {\n",
       "        vertical-align: middle;\n",
       "    }\n",
       "\n",
       "    .dataframe tbody tr th {\n",
       "        vertical-align: top;\n",
       "    }\n",
       "\n",
       "    .dataframe thead th {\n",
       "        text-align: right;\n",
       "    }\n",
       "</style>\n",
       "<table border=\"1\" class=\"dataframe\">\n",
       "  <thead>\n",
       "    <tr style=\"text-align: right;\">\n",
       "      <th></th>\n",
       "      <th>Symbol</th>\n",
       "      <th>Name</th>\n",
       "    </tr>\n",
       "  </thead>\n",
       "  <tbody>\n",
       "    <tr>\n",
       "      <th>0</th>\n",
       "      <td>060310</td>\n",
       "      <td>3S</td>\n",
       "    </tr>\n",
       "    <tr>\n",
       "      <th>1</th>\n",
       "      <td>095570</td>\n",
       "      <td>AJ네트웍스</td>\n",
       "    </tr>\n",
       "    <tr>\n",
       "      <th>2</th>\n",
       "      <td>006840</td>\n",
       "      <td>AK홀딩스</td>\n",
       "    </tr>\n",
       "    <tr>\n",
       "      <th>3</th>\n",
       "      <td>054620</td>\n",
       "      <td>APS홀딩스</td>\n",
       "    </tr>\n",
       "    <tr>\n",
       "      <th>4</th>\n",
       "      <td>265520</td>\n",
       "      <td>AP시스템</td>\n",
       "    </tr>\n",
       "    <tr>\n",
       "      <th>...</th>\n",
       "      <td>...</td>\n",
       "      <td>...</td>\n",
       "    </tr>\n",
       "    <tr>\n",
       "      <th>7208</th>\n",
       "      <td>000547</td>\n",
       "      <td>흥국화재2우B</td>\n",
       "    </tr>\n",
       "    <tr>\n",
       "      <th>7209</th>\n",
       "      <td>000545</td>\n",
       "      <td>흥국화재우</td>\n",
       "    </tr>\n",
       "    <tr>\n",
       "      <th>7210</th>\n",
       "      <td>003280</td>\n",
       "      <td>흥아해운</td>\n",
       "    </tr>\n",
       "    <tr>\n",
       "      <th>7211</th>\n",
       "      <td>037440</td>\n",
       "      <td>희림</td>\n",
       "    </tr>\n",
       "    <tr>\n",
       "      <th>7212</th>\n",
       "      <td>238490</td>\n",
       "      <td>힘스</td>\n",
       "    </tr>\n",
       "  </tbody>\n",
       "</table>\n",
       "<p>7213 rows × 2 columns</p>\n",
       "</div>"
      ],
      "text/plain": [
       "      Symbol     Name\n",
       "0     060310       3S\n",
       "1     095570   AJ네트웍스\n",
       "2     006840    AK홀딩스\n",
       "3     054620   APS홀딩스\n",
       "4     265520    AP시스템\n",
       "...      ...      ...\n",
       "7208  000547  흥국화재2우B\n",
       "7209  000545    흥국화재우\n",
       "7210  003280     흥아해운\n",
       "7211  037440       희림\n",
       "7212  238490       힘스\n",
       "\n",
       "[7213 rows x 2 columns]"
      ]
     },
     "execution_count": 19,
     "metadata": {},
     "output_type": "execute_result"
    }
   ],
   "source": [
    "# dataframe은 리스트 형태로 묶어줘야함\n",
    "df[[\"Symbol\", \"Name\"]]"
   ]
  },
  {
   "cell_type": "code",
   "execution_count": 20,
   "id": "8cb948aa",
   "metadata": {},
   "outputs": [
    {
     "data": {
      "text/html": [
       "<div>\n",
       "<style scoped>\n",
       "    .dataframe tbody tr th:only-of-type {\n",
       "        vertical-align: middle;\n",
       "    }\n",
       "\n",
       "    .dataframe tbody tr th {\n",
       "        vertical-align: top;\n",
       "    }\n",
       "\n",
       "    .dataframe thead th {\n",
       "        text-align: right;\n",
       "    }\n",
       "</style>\n",
       "<table border=\"1\" class=\"dataframe\">\n",
       "  <thead>\n",
       "    <tr style=\"text-align: right;\">\n",
       "      <th></th>\n",
       "      <th>Symbol</th>\n",
       "      <th>Market</th>\n",
       "      <th>Name</th>\n",
       "      <th>Sector</th>\n",
       "      <th>Industry</th>\n",
       "      <th>ListingDate</th>\n",
       "      <th>SettleMonth</th>\n",
       "      <th>Representative</th>\n",
       "      <th>HomePage</th>\n",
       "      <th>Region</th>\n",
       "    </tr>\n",
       "  </thead>\n",
       "  <tbody>\n",
       "    <tr>\n",
       "      <th>1</th>\n",
       "      <td>095570</td>\n",
       "      <td>KOSPI</td>\n",
       "      <td>AJ네트웍스</td>\n",
       "      <td>산업용 기계 및 장비 임대업</td>\n",
       "      <td>렌탈(파렛트, OA장비, 건설장비)</td>\n",
       "      <td>2015-08-21</td>\n",
       "      <td>12월</td>\n",
       "      <td>박대현</td>\n",
       "      <td>http://www.ajnet.co.kr</td>\n",
       "      <td>서울특별시</td>\n",
       "    </tr>\n",
       "    <tr>\n",
       "      <th>5</th>\n",
       "      <td>211270</td>\n",
       "      <td>KOSDAQ</td>\n",
       "      <td>AP위성</td>\n",
       "      <td>통신 및 방송 장비 제조업</td>\n",
       "      <td>위성통신 단말기</td>\n",
       "      <td>2016-03-04</td>\n",
       "      <td>12월</td>\n",
       "      <td>류장수</td>\n",
       "      <td>http://www.apsi.co.kr</td>\n",
       "      <td>서울특별시</td>\n",
       "    </tr>\n",
       "  </tbody>\n",
       "</table>\n",
       "</div>"
      ],
      "text/plain": [
       "   Symbol  Market    Name           Sector             Industry ListingDate  \\\n",
       "1  095570   KOSPI  AJ네트웍스  산업용 기계 및 장비 임대업  렌탈(파렛트, OA장비, 건설장비)  2015-08-21   \n",
       "5  211270  KOSDAQ    AP위성   통신 및 방송 장비 제조업             위성통신 단말기  2016-03-04   \n",
       "\n",
       "  SettleMonth Representative                HomePage Region  \n",
       "1         12월            박대현  http://www.ajnet.co.kr  서울특별시  \n",
       "5         12월            류장수   http://www.apsi.co.kr  서울특별시  "
      ]
     },
     "execution_count": 20,
     "metadata": {},
     "output_type": "execute_result"
    }
   ],
   "source": [
    "df.loc[[1, 5]]"
   ]
  },
  {
   "cell_type": "code",
   "execution_count": 21,
   "id": "f1ab7c15",
   "metadata": {},
   "outputs": [
    {
     "data": {
      "text/html": [
       "<div>\n",
       "<style scoped>\n",
       "    .dataframe tbody tr th:only-of-type {\n",
       "        vertical-align: middle;\n",
       "    }\n",
       "\n",
       "    .dataframe tbody tr th {\n",
       "        vertical-align: top;\n",
       "    }\n",
       "\n",
       "    .dataframe thead th {\n",
       "        text-align: right;\n",
       "    }\n",
       "</style>\n",
       "<table border=\"1\" class=\"dataframe\">\n",
       "  <thead>\n",
       "    <tr style=\"text-align: right;\">\n",
       "      <th></th>\n",
       "      <th>Name</th>\n",
       "    </tr>\n",
       "  </thead>\n",
       "  <tbody>\n",
       "    <tr>\n",
       "      <th>0</th>\n",
       "      <td>3S</td>\n",
       "    </tr>\n",
       "    <tr>\n",
       "      <th>1</th>\n",
       "      <td>AJ네트웍스</td>\n",
       "    </tr>\n",
       "    <tr>\n",
       "      <th>2</th>\n",
       "      <td>AK홀딩스</td>\n",
       "    </tr>\n",
       "    <tr>\n",
       "      <th>3</th>\n",
       "      <td>APS홀딩스</td>\n",
       "    </tr>\n",
       "    <tr>\n",
       "      <th>4</th>\n",
       "      <td>AP시스템</td>\n",
       "    </tr>\n",
       "    <tr>\n",
       "      <th>...</th>\n",
       "      <td>...</td>\n",
       "    </tr>\n",
       "    <tr>\n",
       "      <th>7208</th>\n",
       "      <td>흥국화재2우B</td>\n",
       "    </tr>\n",
       "    <tr>\n",
       "      <th>7209</th>\n",
       "      <td>흥국화재우</td>\n",
       "    </tr>\n",
       "    <tr>\n",
       "      <th>7210</th>\n",
       "      <td>흥아해운</td>\n",
       "    </tr>\n",
       "    <tr>\n",
       "      <th>7211</th>\n",
       "      <td>희림</td>\n",
       "    </tr>\n",
       "    <tr>\n",
       "      <th>7212</th>\n",
       "      <td>힘스</td>\n",
       "    </tr>\n",
       "  </tbody>\n",
       "</table>\n",
       "<p>7213 rows × 1 columns</p>\n",
       "</div>"
      ],
      "text/plain": [
       "         Name\n",
       "0          3S\n",
       "1      AJ네트웍스\n",
       "2       AK홀딩스\n",
       "3      APS홀딩스\n",
       "4       AP시스템\n",
       "...       ...\n",
       "7208  흥국화재2우B\n",
       "7209    흥국화재우\n",
       "7210     흥아해운\n",
       "7211       희림\n",
       "7212       힘스\n",
       "\n",
       "[7213 rows x 1 columns]"
      ]
     },
     "execution_count": 21,
     "metadata": {},
     "output_type": "execute_result"
    }
   ],
   "source": [
    "# 하나의 컬럼을 dataframe 형태로 반환\n",
    "df[[\"Name\"]]"
   ]
  },
  {
   "cell_type": "code",
   "execution_count": 22,
   "id": "8862d627",
   "metadata": {},
   "outputs": [
    {
     "data": {
      "text/plain": [
       "'AJ네트웍스'"
      ]
     },
     "execution_count": 22,
     "metadata": {},
     "output_type": "execute_result"
    }
   ],
   "source": [
    "# 행, 열\n",
    "df.loc[1, \"Name\"]"
   ]
  },
  {
   "cell_type": "code",
   "execution_count": null,
   "id": "6c618cc7",
   "metadata": {},
   "outputs": [],
   "source": [
    "# 실행시 시간 비교\n",
    "# dataframe에서 바로 가져옴\n",
    "%timeit df.loc[2, \"Name\"]"
   ]
  },
  {
   "cell_type": "code",
   "execution_count": null,
   "id": "c4e18cbf",
   "metadata": {},
   "outputs": [],
   "source": [
    "# 앞의 결과 dataframe에서 가져옴\n",
    "%timeit df.loc[2][\"Name\"]"
   ]
  },
  {
   "cell_type": "code",
   "execution_count": null,
   "id": "88e109a4",
   "metadata": {},
   "outputs": [],
   "source": [
    "df.loc[[1, 5, 9], \"Name\"]"
   ]
  },
  {
   "cell_type": "code",
   "execution_count": null,
   "id": "91321522",
   "metadata": {},
   "outputs": [],
   "source": [
    "df.loc[[1, 5, 9], [\"Symbol\", \"Name\"]]"
   ]
  },
  {
   "cell_type": "markdown",
   "id": "4104a13f",
   "metadata": {},
   "source": [
    "### Boolean Indexing"
   ]
  },
  {
   "cell_type": "code",
   "execution_count": null,
   "id": "e67f269a",
   "metadata": {},
   "outputs": [],
   "source": [
    "# Name이 카카오인 행을 출력\n",
    "df[df[\"Name\"] == \"카카오\"]"
   ]
  },
  {
   "cell_type": "markdown",
   "id": "78936bbb",
   "metadata": {},
   "source": [
    "* 서욽특별시 소재지이고 market이 KOSPI"
   ]
  },
  {
   "cell_type": "code",
   "execution_count": null,
   "id": "d9f458e7",
   "metadata": {},
   "outputs": [],
   "source": [
    "# 두 줄의 결과를 모두 보고 싶을땐 display\n",
    "display(df[df[\"Region\"] == \"서울특별시\"])\n",
    "df[df[\"Market\"] == \"KOSPI\"]"
   ]
  },
  {
   "cell_type": "code",
   "execution_count": null,
   "id": "7cd89162",
   "metadata": {},
   "outputs": [],
   "source": [
    "# and와 or은 &와 |로 표현(numpy벡터 연산)\n",
    "(df[\"Region\"] == \"서울특별시\") & (df[\"Market\"] == \"KOSPI\")"
   ]
  },
  {
   "cell_type": "code",
   "execution_count": null,
   "id": "f52ca5f8",
   "metadata": {},
   "outputs": [],
   "source": [
    "df[(df[\"Region\"] == \"서울특별시\") & (df[\"Market\"] == \"KOSPI\")]"
   ]
  },
  {
   "cell_type": "code",
   "execution_count": null,
   "id": "a3a68c22",
   "metadata": {},
   "outputs": [],
   "source": [
    "# 해당 조건을 만족하는 특정 column만 출력\n",
    "df.loc[(df[\"Region\"] == \"서울특별시\") & (df[\"Market\"] == \"KOSPI\"), [\"Symbol\", \"Name\"]]"
   ]
  },
  {
   "cell_type": "code",
   "execution_count": null,
   "id": "2d174f8d",
   "metadata": {},
   "outputs": [],
   "source": [
    "# 정리\n",
    "seoul = df[\"Region\"] == \"서울특별시\"\n",
    "kospi = df[\"Market\"] == \"KOSPI\"\n",
    "df.loc[seoul&kospi, [\"Symbol\", \"Name\"]]"
   ]
  },
  {
   "cell_type": "markdown",
   "id": "d37038ee",
   "metadata": {},
   "source": [
    "## 파생변수 만들기\n",
    "### 데이터 타입 변경과 추출"
   ]
  },
  {
   "cell_type": "code",
   "execution_count": null,
   "id": "df6fd139",
   "metadata": {},
   "outputs": [],
   "source": [
    "df.columns"
   ]
  },
  {
   "cell_type": "code",
   "execution_count": null,
   "id": "91a255f3",
   "metadata": {},
   "outputs": [],
   "source": [
    "# 데이터타입확인 : object\n",
    "df[\"ListingDate\"]"
   ]
  },
  {
   "cell_type": "code",
   "execution_count": null,
   "id": "d7060638",
   "metadata": {},
   "outputs": [],
   "source": [
    "# datetime 형식으로 변환\n",
    "# 원래 데이터 타입을 변경하는 형식으로 적용\n",
    "df[\"ListingDate\"] = pd.to_datetime(df[\"ListingDate\"])\n",
    "df[\"ListingDate\"]"
   ]
  },
  {
   "cell_type": "code",
   "execution_count": null,
   "id": "acc8f667",
   "metadata": {},
   "outputs": [],
   "source": [
    "# datetime 형식의 연도만 추출\n",
    "df[\"ListingDate\"].dt.year"
   ]
  },
  {
   "cell_type": "code",
   "execution_count": null,
   "id": "16699239",
   "metadata": {},
   "outputs": [],
   "source": [
    "# datetime 형식의 달만 추출\n",
    "df[\"ListingDate\"].dt.month"
   ]
  },
  {
   "cell_type": "code",
   "execution_count": null,
   "id": "28c66f6f",
   "metadata": {},
   "outputs": [],
   "source": [
    "# datetime 형식의 날짜만 추출\n",
    "df[\"ListingDate\"].dt.day"
   ]
  },
  {
   "cell_type": "code",
   "execution_count": null,
   "id": "2f7f1bb2",
   "metadata": {},
   "outputs": [],
   "source": [
    "# datetime 형식의 요일만 추출\n",
    "df[\"ListingDate\"].dt.dayofweek"
   ]
  },
  {
   "cell_type": "markdown",
   "id": "2b517ffd",
   "metadata": {},
   "source": [
    "### 파생 변수 생성"
   ]
  },
  {
   "cell_type": "code",
   "execution_count": null,
   "id": "e2ce9653",
   "metadata": {},
   "outputs": [],
   "source": [
    "# ListingYear 파생변수\n",
    "df[\"ListingYear\"]=df[\"ListingDate\"].dt.year\n",
    "df[\"ListingYear\"]"
   ]
  },
  {
   "cell_type": "code",
   "execution_count": null,
   "id": "c532d1de",
   "metadata": {},
   "outputs": [],
   "source": [
    "df[\"ListingYear\"].tail(5)"
   ]
  },
  {
   "cell_type": "code",
   "execution_count": null,
   "id": "fe8cb25c",
   "metadata": {},
   "outputs": [],
   "source": [
    "# NaN은 not a number의 약자로 데이터 타입이 float이다\n",
    "# np.nan은 nan이다.\n",
    "# numpy는 파이썬 대표적인 계산 라이브러리. pandas 내부에서도 사용(C언어로 작성)\n",
    "import numpy as np\n",
    "type(np.nan)"
   ]
  },
  {
   "cell_type": "code",
   "execution_count": null,
   "id": "fe189d4a",
   "metadata": {},
   "outputs": [],
   "source": [
    "# 데이터 타입 확인\n",
    "df[[\"ListingDate\", \"ListingYear\"]].dtypes"
   ]
  },
  {
   "cell_type": "markdown",
   "id": "739b158f",
   "metadata": {},
   "source": [
    "## 데이터시각화 툴\n",
    "* matplotlib : 복잡하고 어려움\n",
    "* seaborn : 통계적 연산 쉽게 가능\n",
    "* pandas : 간단한 시각화 가능\n",
    "\n",
    "### Matplotlib\n",
    "* Figure : 그래프 전체 바탕\n",
    "* Axes : 그래프\n",
    "* title : 그래프 제목\n",
    "* Legend : 범례\n",
    "* Grid : 격차 표시\n",
    "* Spines : 테두리 선\n",
    "* X axis Label : X축 레이블\n",
    "* X tick lable : X축 레이블 값\n",
    "* Y axis Label : Y축 레이블\n",
    "* Y tick lable : Y축 레이블 값\n",
    "\n",
    "### Seaborn\n",
    "* matplotlib기반\n",
    "* https://seaborn.pydata.org/examples/index.html 에서 그래프 코드 찾기 가능\n",
    "\n",
    "### Pandas\n",
    "* matplotlib기반\n",
    "* https://pandas.pydata.org/docs/user_guide/visualization.html 에서 그래프 코드 찾기 가능\n",
    "\n",
    "\n",
    "## 데이터 시각화를 위한 폰트 설정\n",
    "* 시스템 환경에 따라 사용가능한 폰트명이 다름\n",
    "* \"Windows\" : \"Malgun Gothic\"\n",
    "* \"Darwin\" : \"AppleGothic\"\n",
    "* \"Linux\": runtime 재시작 후 폰트 설치해야함(Colab)"
   ]
  },
  {
   "cell_type": "code",
   "execution_count": null,
   "id": "1dd9b7b7",
   "metadata": {},
   "outputs": [],
   "source": [
    "# 시스템 환경이 뭔지 확인\n",
    "import platform\n",
    "system_name = platform.system()\n",
    "system_name"
   ]
  },
  {
   "cell_type": "code",
   "execution_count": null,
   "id": "33898473",
   "metadata": {},
   "outputs": [],
   "source": [
    "def get_font_family() : \n",
    "    if system_name == \"Darwin\" :\n",
    "        font_family = \"AppleGothic\"\n",
    "    elif system_name == \"Windows\" :\n",
    "        font_family = \"Malgun Gothic\"\n",
    "    else : \n",
    "        # Linux\n",
    "        !apt-get install fonts-nanum -qq  > /dev/null\n",
    "        !fc-cache -fv\n",
    "\n",
    "        import matplotlib as mpl\n",
    "        mpl.font_manager._rebuild()\n",
    "        findfont = mpl.font_manager.fontManager.findfont\n",
    "        mpl.font_manager.findfont = findfont\n",
    "        mpl.backends.backend_agg.findfont = findfont\n",
    "        \n",
    "        font_family = \"NanumBarunGothic\"\n",
    "    return font_family"
   ]
  },
  {
   "cell_type": "code",
   "execution_count": null,
   "id": "f1815dc2",
   "metadata": {},
   "outputs": [],
   "source": [
    "get_font_family()"
   ]
  },
  {
   "cell_type": "code",
   "execution_count": null,
   "id": "c03a25f5",
   "metadata": {},
   "outputs": [],
   "source": [
    "# 시스템 폰트를 불러와서 font_family에 할당\n",
    "import matplotlib.pyplot as plt\n",
    "font_family = get_font_family()\n",
    "\n",
    "# 폰트 설정\n",
    "plt.rc(\"font\", family=font_family)\n",
    "\n",
    "# 마이너스 폰트 설정\n",
    "plt.rc(\"axes\", unicode_minus=False)\n",
    "\n",
    "# 그래프 스타일 ggplot으로 설정\n",
    "plt.style.use(\"ggplot\")"
   ]
  },
  {
   "cell_type": "code",
   "execution_count": null,
   "id": "19688c8f",
   "metadata": {},
   "outputs": [],
   "source": [
    "pd.Series([1,3,5,-7,9]).plot(title=\"한글 제목\")"
   ]
  }
 ],
 "metadata": {
  "kernelspec": {
   "display_name": "Python 3",
   "language": "python",
   "name": "python3"
  },
  "language_info": {
   "codemirror_mode": {
    "name": "ipython",
    "version": 3
   },
   "file_extension": ".py",
   "mimetype": "text/x-python",
   "name": "python",
   "nbconvert_exporter": "python",
   "pygments_lexer": "ipython3",
   "version": "3.8.8"
  },
  "toc": {
   "base_numbering": 1,
   "nav_menu": {},
   "number_sections": true,
   "sideBar": true,
   "skip_h1_title": false,
   "title_cell": "Table of Contents",
   "title_sidebar": "Contents",
   "toc_cell": false,
   "toc_position": {
    "height": "calc(100% - 180px)",
    "left": "10px",
    "top": "150px",
    "width": "296px"
   },
   "toc_section_display": true,
   "toc_window_display": true
  }
 },
 "nbformat": 4,
 "nbformat_minor": 5
}
